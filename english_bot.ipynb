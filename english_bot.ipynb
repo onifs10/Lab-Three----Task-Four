{
 "cells": [
  {
   "cell_type": "code",
   "execution_count": 1,
   "id": "71340596",
   "metadata": {},
   "outputs": [],
   "source": [
    "import nltk\n",
    "from nltk.chat.util import Chat, reflections"
   ]
  },
  {
   "cell_type": "code",
   "execution_count": 2,
   "id": "99baea25",
   "metadata": {},
   "outputs": [],
   "source": [
    "# Create a data set of user input and responses.\n",
    "# The first part of the data set contains the user input, and the second part contains the corresponding responses.\n",
    "bot_knowledge = [\n",
    "    [\n",
    "        r\"(?i)^(.*)What is your name\",\n",
    "        [\"My name is KinshipBot.\"]\n",
    "    ],\n",
    "    [\n",
    "        r\"(?i)^(.*)What can you do\",\n",
    "        [\"I can help you with definitions to some kinship terms.\"]\n",
    "    ],\n",
    "    [\n",
    "        r\"(?i)^(.*)(what|who) is( a)? father\",\n",
    "        [\"A father is a male parent.\"]\n",
    "    ],\n",
    "    [\n",
    "        r\"(?i)^(.*)(what|who) is( a)? mother\",\n",
    "        [\"A mother is a female parent.\"]\n",
    "    ],\n",
    "    [\n",
    "        r\"(?i)^(.*)(what|who) is( a)? husband\",\n",
    "        [\"A mother is a female parent.\"]\n",
    "    ],\n",
    "    [\n",
    "        r\"(?i)^(.*)(what|who) is( a)? male\",\n",
    "        [\"A male is a man or a boy.\"]\n",
    "    ],\n",
    "    [\n",
    "        r\"(?i)^(.*)(what|who) is( a)? spouse\",\n",
    "        [\"A spouse is a married person.\"]\n",
    "    ],\n",
    "    [\n",
    "        r\"(?i)^(.*)(what|who) is( a| an)? inlaw\",\n",
    "        [\"An inlaw is a person related by marriage.\"]\n",
    "    ],\n",
    "    [\n",
    "        r\"(?i)^(.*)(what|who) is( a)? family\",\n",
    "        [\"A family is a group of two or more persons related by birth, marriage.\"]\n",
    "    ],\n",
    "    [\n",
    "        r\"(?i)^(.*)(what|who) is( a)? parent\",\n",
    "        [\"A parent is the caregiver of a child.\"]\n",
    "    ],\n",
    "    [\n",
    "        r\"(?i)^(.*)(what|who) is( a)? child\",\n",
    "        [\"A child is a young person between infancy and puberty.\"]\n",
    "    ],\n",
    "    [\n",
    "        r\"(?i)^(.*)(what|who) is( a)? person\",\n",
    "        [\"A person is a human being regarded as an individual.\"]\n",
    "    ],\n",
    "        [\n",
    "        r\"(?i)^(.*)what is( a)? marriage\",\n",
    "        [\"A marriage is a union between man and woman called spouses.\"]\n",
    "    ],\n",
    "    [\n",
    "        r\"hi|hey|hello\",\n",
    "        [\"Hello, My name is KinshipBot.\"]\n",
    "    ],\n",
    "    [\n",
    "        r\"quit|bye|see you\",\n",
    "        [\"Bye! Take care.\",\"goodbye!\",\"take care!\"]\n",
    "    ]\n",
    "]"
   ]
  },
  {
   "cell_type": "code",
   "execution_count": 3,
   "id": "49be7ab3",
   "metadata": {},
   "outputs": [],
   "source": [
    "nltk_chat = Chat(bot_knowledge, reflections=reflections)"
   ]
  },
  {
   "cell_type": "code",
   "execution_count": 6,
   "id": "0be048db",
   "metadata": {},
   "outputs": [],
   "source": [
    "def chat():\n",
    "    print(\">> Bot: Hello! I'm a Kinship bot. How can I assist you today?\")\n",
    "    while True:\n",
    "        user_input = input(\">> User: \")\n",
    "        response = nltk_chat.respond(user_input)\n",
    "        if(response):\n",
    "            print(f\">> Bot: {response}\")\n",
    "            if response.lower() in [\"bye! take care.\",\"goodbye!\",\"take care!\"]:\n",
    "                break\n",
    "        else:\n",
    "            print(\"Bot >> Sorry i dont have a reponse to that\")\n",
    "\n"
   ]
  },
  {
   "cell_type": "code",
   "execution_count": 7,
   "id": "c6a6566a",
   "metadata": {},
   "outputs": [
    {
     "name": "stdout",
     "output_type": "stream",
     "text": [
      ">> Bot: Hello! I'm a Kinship bot. How can I assist you today?\n",
      ">> User: what is a father ?\n",
      ">> Bot: A father is a male parent.\n",
      ">> User: can you tell me who is a father \n",
      ">> Bot: A father is a male parent.\n",
      ">> User: bye\n",
      ">> Bot: goodbye!\n"
     ]
    }
   ],
   "source": [
    "chat()"
   ]
  },
  {
   "cell_type": "code",
   "execution_count": null,
   "id": "e46ff776",
   "metadata": {},
   "outputs": [],
   "source": []
  }
 ],
 "metadata": {
  "kernelspec": {
   "display_name": "Python 3 (ipykernel)",
   "language": "python",
   "name": "python3"
  },
  "language_info": {
   "codemirror_mode": {
    "name": "ipython",
    "version": 3
   },
   "file_extension": ".py",
   "mimetype": "text/x-python",
   "name": "python",
   "nbconvert_exporter": "python",
   "pygments_lexer": "ipython3",
   "version": "3.9.13"
  }
 },
 "nbformat": 4,
 "nbformat_minor": 5
}
