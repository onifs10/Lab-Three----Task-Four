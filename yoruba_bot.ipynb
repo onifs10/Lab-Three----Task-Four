{
 "cells": [
  {
   "cell_type": "code",
   "execution_count": 1,
   "id": "71340596",
   "metadata": {},
   "outputs": [],
   "source": [
    "import nltk\n",
    "from nltk.chat.util import Chat, reflections"
   ]
  },
  {
   "cell_type": "code",
   "execution_count": 2,
   "id": "99baea25",
   "metadata": {},
   "outputs": [],
   "source": [
    "# Create a data set of user input and responses.\n",
    "# The first part of the data set contains the user input, and the second part contains the corresponding responses.\n",
    "bot_knowledge = [\n",
    "    [\n",
    "        r\"(?i)^(.*)(kínì|kini) (órùkọ́|oruko) (rè|re)\",\n",
    "        [\"órùkọ́ mí ní KinshipBot.\"]\n",
    "    ],\n",
    "    [\n",
    "        r\"(?i)^(.*)(kí|ki) (lo|ló) (le|lé) (se|sé)\",\n",
    "        [\"Mo le ṣe iranlọwọ fun ọ pẹlu awọn itumọ si diẹ ninu awọn ọrọ ibatan.\"]\n",
    "    ],\n",
    "    [\n",
    "        r\"(?i)^(.*)(tání|tani|kini|kínì) (baba|bàbá)\",\n",
    "        [\"Bàbá jẹ́ òbí ọkunrin.\"]\n",
    "    ],\n",
    "    [\n",
    "        r\"(?i)^(.*)(tání|tani|kini|kínì) (ìyá|iya)\",\n",
    "        [\"ìyá jẹ òbí obinrin.\"]\n",
    "    ],\n",
    "    [\n",
    "        r\"(?i)^(.*)(tání|tani|kini|kínì) (oko|ọkọ)\",\n",
    "        [\"Ọkọ jẹ ọkunrin ti o ti ni iyawo.\"]\n",
    "    ],\n",
    "    [\n",
    "        r\"(?i)^(.*)(tání|tani|kini|kínì) (okunrin|ọkùnrin)\",\n",
    "        [\"Ọkunrin jẹ àgbà ọkunrin, arakunrin tabi ọmọkunrin.\"]\n",
    "    ],\n",
    "    [\n",
    "        r\"(?i)^(.*)(tání|tani|kini|kínì) (lokolaya|lọkọlaya)\",\n",
    "        [\"lọkọlaya tumo si eni ti o ti se igbeyawo.\"]\n",
    "    ],\n",
    "    [\n",
    "        r\"(?i)^(.*)(tání|tani|kini|kínì) (ana|àna)\",\n",
    "        [\"àna je eniyan ti a ni ibatan pẹ̀lu nipasẹ igbeyawo.\"]\n",
    "    ],\n",
    "    [\n",
    "        r\"(?i)^(.*)(tání|tani|kini|kínì) (ebi|ẹ̀bí)\",\n",
    "        [\"ẹ̀bí jẹ akojọpọ awọn eniyan meji tabi diẹ sii ti o ni ibatan nipasẹ ibimọ, igbeyawo.\"]\n",
    "    ],\n",
    "    [\n",
    "        r\"(?i)^(.*)(tání|tani|kini|kínì) (Obi|Òbí)\",\n",
    "        [\"Òbí ni olùtọ́jú ọmọ.\"]\n",
    "    ],\n",
    "    [\n",
    "        r\"(?i)^(.*)(tání|tani|kini|kínì) (omo|ọmọ)\",\n",
    "        [\"Ọmọ jẹ ọdọ laarin ọmọ ikoko ati igba ti o balaga.\"]\n",
    "    ],\n",
    "    [\n",
    "        r\"(?i)^(.*)(tání|tani|kini|kínì) (eniyan|èníyàn)\",\n",
    "        [\"Eniyan jẹ eni ti a gba gẹgẹ bí ẹni kọọkan.\"]\n",
    "    ],\n",
    "        [\n",
    "        r\"(?i)^(.*)(kínì|kini) igbeyawo\",\n",
    "        [\"Igbeyawo jẹ iṣọkan laarin ọkunrin ati obinrin ti a npe ni lọkọláya.\"]\n",
    "    ],\n",
    "    [\n",
    "        r\"Bawo ni|(Pele|Pẹlẹ) nibe yen\",\n",
    "        [\"Kaabo, Orukọ mi ni KinshipBot.\"]\n",
    "    ],\n",
    "    [\n",
    "        r\"(jawo|jáwọ́)|o (dabo|dàbò)|ma a ri e laipe\",\n",
    "        [\"o dàbò! pada wa ni akoko miiran.\"]\n",
    "    ]\n",
    "]\n",
    "\n"
   ]
  },
  {
   "cell_type": "code",
   "execution_count": 3,
   "id": "49be7ab3",
   "metadata": {},
   "outputs": [],
   "source": [
    "nltk_chat = Chat(bot_knowledge, reflections=reflections)"
   ]
  },
  {
   "cell_type": "code",
   "execution_count": 4,
   "id": "0be048db",
   "metadata": {},
   "outputs": [],
   "source": [
    "def chat():\n",
    "    print(\">> Ero Ibatan: Kaabo!, Orukọ mi ni KinshipBot. Bawo ni mo ṣe le ran ọ lọwọ loni?\")\n",
    "    while True:\n",
    "        user_input = input(\">> Ólumulò: \")\n",
    "        response = nltk_chat.respond(user_input)\n",
    "        if(response):\n",
    "            print(f\">> Ero Ibatan: {response}\")\n",
    "            if response.lower() in [\"o dàbò! pada wa ni akoko miiran.\"]:\n",
    "                break\n",
    "        else:\n",
    "            print(\"Ero Ibatan >> Ma binu, Emi ko ni esi si oun ti o sọ\")\n",
    "\n"
   ]
  },
  {
   "cell_type": "code",
   "execution_count": 5,
   "id": "c6a6566a",
   "metadata": {},
   "outputs": [
    {
     "name": "stdout",
     "output_type": "stream",
     "text": [
      ">> Ero Ibatan: Kaabo!, Orukọ mi ni KinshipBot. Bawo ni mo ṣe le ran ọ lọwọ loni?\n",
      ">> Ólumulò: kini oruko re\n",
      ">> Ero Ibatan: órùkọ́ mí ní KinshipBot.\n",
      ">> Ólumulò: tani\n",
      "Ero Ibatan >> Ma binu, Emi ko ni esi si oun ti o sọ\n",
      ">> Ólumulò: o dabo\n",
      ">> Ero Ibatan: o dàbò! pada wa ni akoko miiran.\n"
     ]
    }
   ],
   "source": [
    "chat()"
   ]
  },
  {
   "cell_type": "code",
   "execution_count": null,
   "id": "50c6e0e9",
   "metadata": {},
   "outputs": [],
   "source": []
  }
 ],
 "metadata": {
  "kernelspec": {
   "display_name": "Python 3 (ipykernel)",
   "language": "python",
   "name": "python3"
  },
  "language_info": {
   "codemirror_mode": {
    "name": "ipython",
    "version": 3
   },
   "file_extension": ".py",
   "mimetype": "text/x-python",
   "name": "python",
   "nbconvert_exporter": "python",
   "pygments_lexer": "ipython3",
   "version": "3.10.9"
  }
 },
 "nbformat": 4,
 "nbformat_minor": 5
}
